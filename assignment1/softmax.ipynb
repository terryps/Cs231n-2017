{
 "cells": [
  {
   "cell_type": "markdown",
   "metadata": {},
   "source": [
    "# Softmax exercise\n",
    "\n",
    "*Complete and hand in this completed worksheet (including its outputs and any supporting code outside of the worksheet) with your assignment submission. For more details see the [assignments page](http://vision.stanford.edu/teaching/cs231n/assignments.html) on the course website.*\n",
    "\n",
    "This exercise is analogous to the SVM exercise. You will:\n",
    "\n",
    "- implement a fully-vectorized **loss function** for the Softmax classifier\n",
    "- implement the fully-vectorized expression for its **analytic gradient**\n",
    "- **check your implementation** with numerical gradient\n",
    "- use a validation set to **tune the learning rate and regularization** strength\n",
    "- **optimize** the loss function with **SGD**\n",
    "- **visualize** the final learned weights\n"
   ]
  },
  {
   "cell_type": "code",
   "execution_count": 1,
   "metadata": {},
   "outputs": [],
   "source": [
    "from __future__ import print_function\n",
    "\n",
    "\n",
    "import random\n",
    "import numpy as np\n",
    "from cs231n.data_utils import load_CIFAR10\n",
    "import matplotlib.pyplot as plt\n",
    "\n",
    "\n",
    "%matplotlib inline\n",
    "plt.rcParams['figure.figsize'] = (10.0, 8.0) # set default size of plots\n",
    "plt.rcParams['image.interpolation'] = 'nearest'\n",
    "plt.rcParams['image.cmap'] = 'gray'\n",
    "\n",
    "# for auto-reloading extenrnal modules\n",
    "# see http://stackoverflow.com/questions/1907993/autoreload-of-modules-in-ipython\n",
    "%load_ext autoreload\n",
    "%autoreload 2"
   ]
  },
  {
   "cell_type": "code",
   "execution_count": 2,
   "metadata": {},
   "outputs": [
    {
     "name": "stdout",
     "output_type": "stream",
     "text": [
      "Train data shape:  (49000, 3073)\n",
      "Train labels shape:  (49000,)\n",
      "Validation data shape:  (1000, 3073)\n",
      "Validation labels shape:  (1000,)\n",
      "Test data shape:  (1000, 3073)\n",
      "Test labels shape:  (1000,)\n",
      "dev data shape:  (500, 3073)\n",
      "dev labels shape:  (500,)\n"
     ]
    }
   ],
   "source": [
    "def get_CIFAR10_data(num_training=49000, num_validation=1000, num_test=1000, num_dev=500):\n",
    "    \"\"\"\n",
    "    Load the CIFAR-10 dataset from disk and perform preprocessing to prepare\n",
    "    it for the linear classifier. These are the same steps as we used for the\n",
    "    SVM, but condensed to a single function.  \n",
    "    \"\"\"\n",
    "    # Load the raw CIFAR-10 data\n",
    "    cifar10_dir = 'cs231n/datasets/cifar-10-batches-py'\n",
    "    \n",
    "    X_train, y_train, X_test, y_test = load_CIFAR10(cifar10_dir)\n",
    "    \n",
    "    # subsample the data\n",
    "    mask = list(range(num_training, num_training + num_validation))\n",
    "    X_val = X_train[mask]\n",
    "    y_val = y_train[mask]\n",
    "    mask = list(range(num_training))\n",
    "    X_train = X_train[mask]\n",
    "    y_train = y_train[mask]\n",
    "    mask = list(range(num_test))\n",
    "    X_test = X_test[mask]\n",
    "    y_test = y_test[mask]\n",
    "    mask = np.random.choice(num_training, num_dev, replace=False)\n",
    "    X_dev = X_train[mask]\n",
    "    y_dev = y_train[mask]\n",
    "    \n",
    "    # Preprocessing: reshape the image data into rows\n",
    "    X_train = np.reshape(X_train, (X_train.shape[0], -1))\n",
    "    X_val = np.reshape(X_val, (X_val.shape[0], -1))\n",
    "    X_test = np.reshape(X_test, (X_test.shape[0], -1))\n",
    "    X_dev = np.reshape(X_dev, (X_dev.shape[0], -1))\n",
    "    \n",
    "    # Normalize the data: subtract the mean image\n",
    "    mean_image = np.mean(X_train, axis = 0)\n",
    "    X_train -= mean_image\n",
    "    X_val -= mean_image\n",
    "    X_test -= mean_image\n",
    "    X_dev -= mean_image\n",
    "    \n",
    "    # add bias dimension and transform into columns\n",
    "    X_train = np.hstack([X_train, np.ones((X_train.shape[0], 1))])\n",
    "    X_val = np.hstack([X_val, np.ones((X_val.shape[0], 1))])\n",
    "    X_test = np.hstack([X_test, np.ones((X_test.shape[0], 1))])\n",
    "    X_dev = np.hstack([X_dev, np.ones((X_dev.shape[0], 1))])\n",
    "    \n",
    "    return X_train, y_train, X_val, y_val, X_test, y_test, X_dev, y_dev\n",
    "\n",
    "\n",
    "# Cleaning up variables to prevent loading data multiple times (which may cause memory issue)\n",
    "try:\n",
    "   del X_train, y_train\n",
    "   del X_test, y_test\n",
    "   print('Clear previously loaded data.')\n",
    "except:\n",
    "   pass\n",
    "\n",
    "# Invoke the above function to get our data.\n",
    "X_train, y_train, X_val, y_val, X_test, y_test, X_dev, y_dev = get_CIFAR10_data()\n",
    "print('Train data shape: ', X_train.shape)\n",
    "print('Train labels shape: ', y_train.shape)\n",
    "print('Validation data shape: ', X_val.shape)\n",
    "print('Validation labels shape: ', y_val.shape)\n",
    "print('Test data shape: ', X_test.shape)\n",
    "print('Test labels shape: ', y_test.shape)\n",
    "print('dev data shape: ', X_dev.shape)\n",
    "print('dev labels shape: ', y_dev.shape)"
   ]
  },
  {
   "cell_type": "markdown",
   "metadata": {},
   "source": [
    "## Softmax Classifier\n",
    "\n",
    "Your code for this section will all be written inside **cs231n/classifiers/softmax.py**. \n"
   ]
  },
  {
   "cell_type": "code",
   "execution_count": 3,
   "metadata": {},
   "outputs": [
    {
     "name": "stdout",
     "output_type": "stream",
     "text": [
      "loss: 2.336643\n",
      "sanity check: 2.302585\n"
     ]
    }
   ],
   "source": [
    "# First implement the naive softmax loss function with nested loops.\n",
    "# Open the file cs231n/classifiers/softmax.py and implement the\n",
    "# softmax_loss_naive function.\n",
    "\n",
    "from cs231n.classifiers.softmax import softmax_loss_naive\n",
    "import time\n",
    "\n",
    "# Generate a random softmax weight matrix and use it to compute the loss.\n",
    "W = np.random.randn(3073, 10) * 0.0001\n",
    "loss, grad = softmax_loss_naive(W, X_dev, y_dev, 0.0)\n",
    "\n",
    "# As a rough sanity check, our loss should be something close to -log(0.1).\n",
    "print('loss: %f' % loss)\n",
    "# 최초 W는 uniform distribution 형태로 값을 초기화해주었기 때문에 각각의 class가 uniform한 형태를 띈다.\n",
    "print('sanity check: %f' % (-np.log(0.1)))"
   ]
  },
  {
   "cell_type": "markdown",
   "metadata": {},
   "source": [
    "## Inline Question 1:\n",
    "Why do we expect our loss to be close to -log(0.1)? Explain briefly.**\n",
    "\n",
    "**Your answer:** *Fill this in*\n"
   ]
  },
  {
   "cell_type": "code",
   "execution_count": 4,
   "metadata": {},
   "outputs": [
    {
     "name": "stdout",
     "output_type": "stream",
     "text": [
      "numerical: 0.888916 analytic: 0.888916, relative error: 3.401218e-09\n",
      "numerical: 1.308463 analytic: 1.308463, relative error: 1.615824e-09\n",
      "numerical: 3.274005 analytic: 3.274005, relative error: 2.091380e-08\n",
      "numerical: 0.866501 analytic: 0.866501, relative error: 1.798549e-08\n",
      "numerical: 3.269544 analytic: 3.269544, relative error: 1.070273e-08\n",
      "numerical: 0.765095 analytic: 0.765095, relative error: 2.501645e-08\n",
      "numerical: 0.637601 analytic: 0.637601, relative error: 1.060830e-08\n",
      "numerical: -0.559772 analytic: -0.559772, relative error: 1.215968e-07\n",
      "numerical: -2.144577 analytic: -2.144577, relative error: 5.343260e-10\n",
      "numerical: -1.151067 analytic: -1.151067, relative error: 3.061701e-08\n",
      "numerical: -0.485088 analytic: -0.485088, relative error: 6.020959e-08\n",
      "numerical: -1.847271 analytic: -1.847271, relative error: 1.263958e-09\n",
      "numerical: -2.122723 analytic: -2.122723, relative error: 3.122308e-08\n",
      "numerical: 0.492103 analytic: 0.492103, relative error: 1.002470e-07\n",
      "numerical: 1.635968 analytic: 1.635967, relative error: 3.796918e-08\n",
      "numerical: -0.549857 analytic: -0.549857, relative error: 4.378783e-08\n",
      "numerical: 0.005565 analytic: 0.005565, relative error: 3.355644e-06\n",
      "numerical: 1.909513 analytic: 1.909513, relative error: 1.923511e-08\n",
      "numerical: 0.374663 analytic: 0.374663, relative error: 3.689836e-08\n",
      "numerical: 0.836093 analytic: 0.836093, relative error: 3.083437e-08\n"
     ]
    }
   ],
   "source": [
    "# Complete the implementation of softmax_loss_naive and implement a (naive)\n",
    "# version of the gradient that uses nested loops.\n",
    "loss, grad = softmax_loss_naive(W, X_dev, y_dev, 0.0)\n",
    "\n",
    "# As we did for the SVM, use numeric gradient checking as a debugging tool.\n",
    "# The numeric gradient should be close to the analytic gradient.\n",
    "from cs231n.gradient_check import grad_check_sparse\n",
    "f = lambda w: softmax_loss_naive(w, X_dev, y_dev, 0.0)[0]\n",
    "grad_numerical = grad_check_sparse(f, W, grad, 10)\n",
    "\n",
    "# similar to SVM case, do another gradient check with regularization\n",
    "loss, grad = softmax_loss_naive(W, X_dev, y_dev, 5e1)\n",
    "f = lambda w: softmax_loss_naive(w, X_dev, y_dev, 5e1)[0]\n",
    "grad_numerical = grad_check_sparse(f, W, grad, 10)"
   ]
  },
  {
   "cell_type": "code",
   "execution_count": 5,
   "metadata": {},
   "outputs": [
    {
     "name": "stdout",
     "output_type": "stream",
     "text": [
      "naive loss: 2.336643e+00 computed in 0.053396s\n",
      "vectorized loss: 2.336643e+00 computed in 0.003914s\n",
      "Loss difference: 0.000000\n",
      "Gradient difference: 0.000000\n"
     ]
    }
   ],
   "source": [
    "# Now that we have a naive implementation of the softmax loss function and its gradient,\n",
    "# implement a vectorized version in softmax_loss_vectorized.\n",
    "# The two versions should compute the same results, but the vectorized version should be\n",
    "# much faster.\n",
    "tic = time.time()\n",
    "loss_naive, grad_naive = softmax_loss_naive(W, X_dev, y_dev, 0.000005)\n",
    "toc = time.time()\n",
    "print('naive loss: %e computed in %fs' % (loss_naive, toc - tic))\n",
    "\n",
    "from cs231n.classifiers.softmax import softmax_loss_vectorized\n",
    "tic = time.time()\n",
    "loss_vectorized, grad_vectorized = softmax_loss_vectorized(W, X_dev, y_dev, 0.000005)\n",
    "toc = time.time()\n",
    "print('vectorized loss: %e computed in %fs' % (loss_vectorized, toc - tic))\n",
    "\n",
    "# As we did for the SVM, we use the Frobenius norm to compare the two versions\n",
    "# of the gradient.\n",
    "grad_difference = np.linalg.norm(grad_naive - grad_vectorized, ord='fro')\n",
    "print('Loss difference: %f' % np.abs(loss_naive - loss_vectorized))\n",
    "print('Gradient difference: %f' % grad_difference)"
   ]
  },
  {
   "cell_type": "code",
   "execution_count": 14,
   "metadata": {},
   "outputs": [
    {
     "name": "stdout",
     "output_type": "stream",
     "text": [
      "Learning_rate: 1e-07\n",
      "iteration 0 / 5000: loss 6.007414\n",
      "iteration 100 / 5000: loss 3.796989\n",
      "iteration 200 / 5000: loss 3.399084\n",
      "iteration 300 / 5000: loss 3.368123\n",
      "iteration 400 / 5000: loss 3.229301\n",
      "iteration 500 / 5000: loss 3.109791\n",
      "iteration 600 / 5000: loss 2.790406\n",
      "iteration 700 / 5000: loss 2.718862\n",
      "iteration 800 / 5000: loss 2.802477\n",
      "iteration 900 / 5000: loss 2.798928\n",
      "iteration 1000 / 5000: loss 2.748844\n",
      "iteration 1100 / 5000: loss 2.845263\n",
      "iteration 1200 / 5000: loss 2.631957\n",
      "iteration 1300 / 5000: loss 2.631149\n",
      "iteration 1400 / 5000: loss 2.733225\n",
      "iteration 1500 / 5000: loss 2.538150\n",
      "iteration 1600 / 5000: loss 2.731532\n",
      "iteration 1700 / 5000: loss 2.621759\n",
      "iteration 1800 / 5000: loss 2.396096\n",
      "iteration 1900 / 5000: loss 2.316272\n",
      "iteration 2000 / 5000: loss 2.676291\n",
      "iteration 2100 / 5000: loss 2.473975\n",
      "iteration 2200 / 5000: loss 2.486844\n",
      "iteration 2300 / 5000: loss 2.405810\n",
      "iteration 2400 / 5000: loss 2.510109\n",
      "iteration 2500 / 5000: loss 2.452974\n",
      "iteration 2600 / 5000: loss 2.142711\n",
      "iteration 2700 / 5000: loss 2.423208\n",
      "iteration 2800 / 5000: loss 2.283322\n",
      "iteration 2900 / 5000: loss 2.484605\n",
      "iteration 3000 / 5000: loss 2.311577\n",
      "iteration 3100 / 5000: loss 2.105128\n",
      "iteration 3200 / 5000: loss 2.308263\n",
      "iteration 3300 / 5000: loss 2.254410\n",
      "iteration 3400 / 5000: loss 2.268587\n",
      "iteration 3500 / 5000: loss 2.199374\n",
      "iteration 3600 / 5000: loss 2.175384\n",
      "iteration 3700 / 5000: loss 2.285832\n",
      "iteration 3800 / 5000: loss 2.373543\n",
      "iteration 3900 / 5000: loss 2.289997\n",
      "iteration 4000 / 5000: loss 2.128992\n",
      "iteration 4100 / 5000: loss 2.261295\n",
      "iteration 4200 / 5000: loss 2.342884\n",
      "iteration 4300 / 5000: loss 2.307936\n",
      "iteration 4400 / 5000: loss 2.071578\n",
      "iteration 4500 / 5000: loss 2.328902\n",
      "iteration 4600 / 5000: loss 2.160069\n",
      "iteration 4700 / 5000: loss 2.049166\n",
      "iteration 4800 / 5000: loss 2.313026\n",
      "iteration 4900 / 5000: loss 2.110719\n",
      "Learning_rate: 5e-07\n",
      "iteration 0 / 5000: loss 5.462009\n",
      "iteration 100 / 5000: loss 3.449149\n",
      "iteration 200 / 5000: loss 2.740322\n",
      "iteration 300 / 5000: loss 2.258514\n",
      "iteration 400 / 5000: loss 2.714832\n",
      "iteration 500 / 5000: loss 2.401395\n",
      "iteration 600 / 5000: loss 2.355603\n",
      "iteration 700 / 5000: loss 2.173991\n",
      "iteration 800 / 5000: loss 2.239378\n",
      "iteration 900 / 5000: loss 2.123806\n",
      "iteration 1000 / 5000: loss 2.100623\n",
      "iteration 1100 / 5000: loss 2.035166\n",
      "iteration 1200 / 5000: loss 2.245484\n",
      "iteration 1300 / 5000: loss 2.137722\n",
      "iteration 1400 / 5000: loss 2.220291\n",
      "iteration 1500 / 5000: loss 1.889363\n",
      "iteration 1600 / 5000: loss 2.066140\n",
      "iteration 1700 / 5000: loss 1.988158\n",
      "iteration 1800 / 5000: loss 1.954781\n",
      "iteration 1900 / 5000: loss 1.913344\n",
      "iteration 2000 / 5000: loss 1.941756\n",
      "iteration 2100 / 5000: loss 1.978405\n",
      "iteration 2200 / 5000: loss 2.044888\n",
      "iteration 2300 / 5000: loss 1.886922\n",
      "iteration 2400 / 5000: loss 2.071914\n",
      "iteration 2500 / 5000: loss 1.863915\n",
      "iteration 2600 / 5000: loss 1.882939\n",
      "iteration 2700 / 5000: loss 2.130364\n",
      "iteration 2800 / 5000: loss 1.841941\n",
      "iteration 2900 / 5000: loss 2.049744\n",
      "iteration 3000 / 5000: loss 2.173506\n",
      "iteration 3100 / 5000: loss 1.917682\n",
      "iteration 3200 / 5000: loss 1.905964\n",
      "iteration 3300 / 5000: loss 1.854401\n",
      "iteration 3400 / 5000: loss 1.871771\n",
      "iteration 3500 / 5000: loss 1.991071\n",
      "iteration 3600 / 5000: loss 1.786346\n",
      "iteration 3700 / 5000: loss 1.787810\n",
      "iteration 3800 / 5000: loss 1.919482\n",
      "iteration 3900 / 5000: loss 1.949383\n",
      "iteration 4000 / 5000: loss 1.909695\n",
      "iteration 4100 / 5000: loss 1.743190\n",
      "iteration 4200 / 5000: loss 2.069927\n",
      "iteration 4300 / 5000: loss 1.891670\n",
      "iteration 4400 / 5000: loss 1.966801\n",
      "iteration 4500 / 5000: loss 1.829648\n",
      "iteration 4600 / 5000: loss 1.768487\n",
      "iteration 4700 / 5000: loss 1.928138\n",
      "iteration 4800 / 5000: loss 1.996294\n",
      "iteration 4900 / 5000: loss 1.724933\n"
     ]
    }
   ],
   "source": [
    "# Use the validation set to tune hyperparameters (regularization strength and\n",
    "# learning rate). You should experiment with different ranges for the learning\n",
    "# rates and regularization strengths; if you are careful you should be able to\n",
    "# get a classification accuracy of over 0.35 on the validation set.\n",
    "from cs231n.classifiers import Softmax\n",
    "results = {}\n",
    "best_val = -1\n",
    "best_softmax = None\n",
    "learning_rates = [1e-7, 5e-7]\n",
    "regularization_strengths = [2.5e4, 5e4]\n",
    "\n",
    "################################################################################\n",
    "# TODO:                                                                        #\n",
    "# Use the validation set to set the learning rate and regularization strength. #\n",
    "# This should be identical to the validation that you did for the SVM; save    #\n",
    "# the best trained softmax classifer in best_softmax.                          #\n",
    "################################################################################\n",
    "for lr in learning_rates:\n",
    "    print('Learning_rate:',lr)\n",
    "    clf = Softmax()\n",
    "    clf.train(X = X_train, y = y_train, \n",
    "              learning_rate = lr, num_iters = 5000, verbose = True)\n",
    "    \n",
    "best_softmax = clf\n",
    "################################################################################\n",
    "#                              END OF YOUR CODE                                #\n",
    "################################################################################\n",
    "    \n",
    "# Print out results.\n",
    "#for lr, reg in sorted(results):\n",
    "#    train_accuracy, val_accuracy = results[(lr, reg)]\n",
    "#    print('lr %e reg %e train accuracy: %f val accuracy: %f' % (\n",
    "#                lr, reg, train_accuracy, val_accuracy))\n",
    "    \n",
    "#print('best validation accuracy achieved during cross-validation: %f' % best_val)"
   ]
  },
  {
   "cell_type": "code",
   "execution_count": 15,
   "metadata": {},
   "outputs": [
    {
     "data": {
      "text/plain": [
       "(49000, 3073)"
      ]
     },
     "execution_count": 15,
     "metadata": {},
     "output_type": "execute_result"
    }
   ],
   "source": [
    "X_train.shape"
   ]
  },
  {
   "cell_type": "code",
   "execution_count": 16,
   "metadata": {},
   "outputs": [
    {
     "name": "stdout",
     "output_type": "stream",
     "text": [
      "(1000,)\n",
      "softmax on raw pixels final test set accuracy: 0.346000\n"
     ]
    }
   ],
   "source": [
    "# evaluate on test set\n",
    "# Evaluate the best softmax on test set\n",
    "y_test_pred = best_softmax.predict(X_test)\n",
    "test_accuracy = np.mean(y_test == y_test_pred)\n",
    "print('softmax on raw pixels final test set accuracy: %f' % (test_accuracy, ))"
   ]
  },
  {
   "cell_type": "markdown",
   "metadata": {},
   "source": [
    "**Inline Question** - *True or False*\n",
    "\n",
    "It's possible to add a new datapoint to a training set that would leave the SVM loss unchanged, but this is not the case with the Softmax classifier loss.\n",
    "\n",
    "*Your answer*:\n",
    "\n",
    "*Your explanation*:"
   ]
  },
  {
   "cell_type": "code",
   "execution_count": 17,
   "metadata": {},
   "outputs": [
    {
     "data": {
      "image/png": "[encoded data removed]",
      "text/plain": [
       "<Figure size 432x288 with 10 Axes>"
      ]
     },
     "metadata": {
      "needs_background": "light"
     },
     "output_type": "display_data"
    }
   ],
   "source": [
    "# Visualize the learned weights for each class\n",
    "w = best_softmax.W[:-1,:] # strip out the bias\n",
    "w = w.reshape(32, 32, 3, 10)\n",
    "\n",
    "w_min, w_max = np.min(w), np.max(w)\n",
    "\n",
    "classes = ['plane', 'car', 'bird', 'cat', 'deer', 'dog', 'frog', 'horse', 'ship', 'truck']\n",
    "for i in range(10):\n",
    "    plt.subplot(2, 5, i + 1)\n",
    "    \n",
    "    # Rescale the weights to be between 0 and 255\n",
    "    wimg = 255.0 * (w[:, :, :, i].squeeze() - w_min) / (w_max - w_min)\n",
    "    plt.imshow(wimg.astype('uint8'))\n",
    "    plt.axis('off')\n",
    "    plt.title(classes[i])"
   ]
  },
  {
   "cell_type": "code",
   "execution_count": null,
   "metadata": {},
   "outputs": [],
   "source": []
  }
 ],
 "metadata": {
  "kernelspec": {
   "display_name": "Python 3",
   "language": "python",
   "name": "python3"
  },
  "language_info": {
   "codemirror_mode": {
    "name": "ipython",
    "version": 3
   },
   "file_extension": ".py",
   "mimetype": "text/x-python",
   "name": "python",
   "nbconvert_exporter": "python",
   "pygments_lexer": "ipython3",
   "version": "3.6.8"
  }
 },
 "nbformat": 4,
 "nbformat_minor": 2
}
